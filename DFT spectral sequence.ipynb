{
 "cells": [
  {
   "cell_type": "code",
   "execution_count": 106,
   "metadata": {},
   "outputs": [],
   "source": [
    "K = GF(2^4, 'a')"
   ]
  },
  {
   "cell_type": "code",
   "execution_count": 107,
   "metadata": {},
   "outputs": [],
   "source": [
    "a =K('a')"
   ]
  },
  {
   "cell_type": "code",
   "execution_count": 108,
   "metadata": {},
   "outputs": [
    {
     "data": {
      "text/plain": [
       "x^4 + x + 1"
      ]
     },
     "execution_count": 108,
     "metadata": {},
     "output_type": "execute_result"
    }
   ],
   "source": [
    "K.modulus()"
   ]
  },
  {
   "cell_type": "code",
   "execution_count": 109,
   "metadata": {},
   "outputs": [],
   "source": [
    "def inv(A,t,a):\n",
    "    s = 0\n",
    "    for k in range(0,len(A)):\n",
    "        s = s + A[k]*a^(-t * k)\n",
    "    return s"
   ]
  },
  {
   "cell_type": "code",
   "execution_count": 78,
   "metadata": {},
   "outputs": [],
   "source": [
    "A = [0,1,1,a^3,1,a^5,a^6]"
   ]
  },
  {
   "cell_type": "code",
   "execution_count": 80,
   "metadata": {},
   "outputs": [
    {
     "name": "stdout",
     "output_type": "stream",
     "text": [
      "0\n",
      "0\n",
      "1\n",
      "0\n",
      "0\n",
      "0\n",
      "1\n"
     ]
    }
   ],
   "source": [
    "for i in range(0,7):\n",
    "    print(inv(A,i,a))"
   ]
  },
  {
   "cell_type": "code",
   "execution_count": 110,
   "metadata": {},
   "outputs": [],
   "source": [
    "def  dft(seq,t,a):\n",
    "    s = 0\n",
    "    for k in range(0,len(seq)):\n",
    "        s = s + seq[k]*a^(t*k)\n",
    "    return s"
   ]
  },
  {
   "cell_type": "code",
   "execution_count": 104,
   "metadata": {},
   "outputs": [
    {
     "name": "stdout",
     "output_type": "stream",
     "text": [
      "0\n",
      "1\n",
      "1\n",
      "a^2 + a + 1\n",
      "1\n",
      "a^2\n",
      "a\n"
     ]
    }
   ],
   "source": [
    "seq = [0,1,0,0,0,1,0]\n",
    "for i in range(0,7):\n",
    "    print(dft(seq,i,a))"
   ]
  },
  {
   "cell_type": "code",
   "execution_count": 112,
   "metadata": {},
   "outputs": [
    {
     "name": "stdout",
     "output_type": "stream",
     "text": [
      "0\n",
      "a^3 + a^2 + a + 1\n",
      "a^3 + a\n",
      "a\n",
      "a^3\n",
      "0\n",
      "a^2\n",
      "1\n",
      "a^3 + a^2\n",
      "a^2 + 1\n",
      "0\n",
      "1\n",
      "a + 1\n",
      "1\n",
      "1\n"
     ]
    }
   ],
   "source": [
    "\n",
    "seq = [1,0,0,1,0,1,1,1,1,0,0,0,1,1,0]\n",
    "for i in range(0,15):\n",
    "    print(dft(seq,i,a))"
   ]
  },
  {
   "cell_type": "code",
   "execution_count": 114,
   "metadata": {},
   "outputs": [
    {
     "name": "stdout",
     "output_type": "stream",
     "text": [
      "0 1\n",
      "1 a\n",
      "2 a^2\n",
      "3 a^3\n",
      "4 a + 1\n",
      "5 a^2 + a\n",
      "6 a^3 + a^2\n",
      "7 a^3 + a + 1\n",
      "8 a^2 + 1\n",
      "9 a^3 + a\n",
      "10 a^2 + a + 1\n",
      "11 a^3 + a^2 + a\n",
      "12 a^3 + a^2 + a + 1\n",
      "13 a^3 + a^2 + 1\n",
      "14 a^3 + 1\n"
     ]
    }
   ],
   "source": [
    "for i in range(0,15):\n",
    "    print(i, a^i)"
   ]
  },
  {
   "cell_type": "code",
   "execution_count": null,
   "metadata": {},
   "outputs": [],
   "source": []
  }
 ],
 "metadata": {
  "kernelspec": {
   "display_name": "SageMath 9.2",
   "language": "sage",
   "name": "sagemath"
  },
  "language_info": {
   "codemirror_mode": {
    "name": "ipython",
    "version": 3
   },
   "file_extension": ".py",
   "mimetype": "text/x-python",
   "name": "python",
   "nbconvert_exporter": "python",
   "pygments_lexer": "ipython3",
   "version": "3.7.7"
  }
 },
 "nbformat": 4,
 "nbformat_minor": 4
}
